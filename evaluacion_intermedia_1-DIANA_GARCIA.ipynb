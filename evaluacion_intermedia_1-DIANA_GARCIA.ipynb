{
 "cells": [
  {
   "cell_type": "markdown",
   "metadata": {},
   "source": [
    "#### EVALUACIÓN INTERMEDIA MÓDULO 1"
   ]
  },
  {
   "cell_type": "markdown",
   "metadata": {},
   "source": [
    "##### Parte 1: Strings"
   ]
  },
  {
   "cell_type": "markdown",
   "metadata": {},
   "source": [
    "1. Dada una cadena de texto, contar cuántas veces aparece una letra específica en ella. Usa un input para que el usuario elija la letra a buscar. \n",
    "\n",
    "cadena = \"Python es un lenguaje de programación muy popular\""
   ]
  },
  {
   "cell_type": "code",
   "execution_count": 6,
   "metadata": {},
   "outputs": [
    {
     "name": "stdout",
     "output_type": "stream",
     "text": [
      "La letra r aparece 3 veces\n"
     ]
    }
   ],
   "source": [
    "# Ejercicio 1\n",
    "\n",
    "cadena = \"Python es un lenguaje de programacion muy popular\"\n",
    "input_letra = input(\"¿Que letra se repite mas en esta cadena?\")\n",
    "resultado = cadena.count(input_letra)\n",
    "\n",
    "print(\"La letra\", input_letra, \"aparece\", resultado, \"veces\")"
   ]
  },
  {
   "cell_type": "markdown",
   "metadata": {},
   "source": [
    "2. Escribe un programa que tome la siguiente cadena de texto y reemplace una palabra específica por otra palabra. La palabra a reemplazar y reemplazada deben ser elegidas por el usuario.\n",
    "\n",
    "cadena = \"Python es genial. Python es fácil de aprender.\""
   ]
  },
  {
   "cell_type": "code",
   "execution_count": 18,
   "metadata": {},
   "outputs": [
    {
     "name": "stdout",
     "output_type": "stream",
     "text": [
      "La nueva cadena es:\n",
      "Python es divertido. Python es facil de aprender\n"
     ]
    }
   ],
   "source": [
    "# Ejercicio 2\n",
    "\n",
    "cadena = \"Python es genial. Python es facil de aprender\"\n",
    "palabra_reemplazada = input(\"Introduce la palabra que deseas reemplazar:\")\n",
    "palabra_reemplazo = input(\"Intrduce la palabra de reemplazo: \")\n",
    "nueva_cadena = cadena.replace(palabra_reemplazada, palabra_reemplazo)\n",
    "\n",
    "print(\"La nueva cadena es:\")\n",
    "\n",
    "print(nueva_cadena)"
   ]
  },
  {
   "cell_type": "markdown",
   "metadata": {},
   "source": [
    "3. Toma la siguiente oración y divídela en una lista de palabras. Luego, únelas nuevamente en una sola cadena de texto.\n",
    "\n",
    "oracion = \"Esto es una oración de ejemplo\""
   ]
  },
  {
   "cell_type": "code",
   "execution_count": 27,
   "metadata": {},
   "outputs": [
    {
     "name": "stdout",
     "output_type": "stream",
     "text": [
      "['Esto', 'es', 'una', 'oracion', 'de', 'ejemplo']\n",
      "Esto es una oracion de ejemplo\n"
     ]
    }
   ],
   "source": [
    "# Ejercicio 3\n",
    "\n",
    "oracion = \"Esto es una oracion de ejemplo\"\n",
    "lista1 = oracion.split()\n",
    "\n",
    "print(lista1)\n",
    "\n",
    "cadena_texto = \" \".join(lista1)\n",
    "\n",
    "print(cadena_texto)"
   ]
  },
  {
   "cell_type": "markdown",
   "metadata": {},
   "source": [
    "4. Desarrolla un programa que cuente cuántas palabras hay en la siguiente frase.\n",
    "\n",
    "cadena = \"Esta es una cadena con cinco palabras\""
   ]
  },
  {
   "cell_type": "code",
   "execution_count": 32,
   "metadata": {},
   "outputs": [
    {
     "name": "stdout",
     "output_type": "stream",
     "text": [
      "El número de palabras en la cadena es: 7\n"
     ]
    }
   ],
   "source": [
    "# Ejercicio 4\n",
    "\n",
    "cadena = \"Esta es una cadena con cinco palabras\"\n",
    "cadena1 = cadena.split()\n",
    "num_palabras = len(cadena1)\n",
    "\n",
    "print(\"El número de palabras en la cadena es:\", num_palabras)"
   ]
  },
  {
   "cell_type": "markdown",
   "metadata": {},
   "source": [
    "5. Escribe un programa que invierta una cadena de texto dada por un usuario. Mira el siguiente ejemplo para entender lo que se pide:\n",
    "\n",
    "input \n",
    "\"Hola buenos dias\"\n",
    "output\n",
    "\"dias buenos Hola"
   ]
  },
  {
   "cell_type": "code",
   "execution_count": 9,
   "metadata": {},
   "outputs": [
    {
     "name": "stdout",
     "output_type": "stream",
     "text": [
      "dias buenos hola\n"
     ]
    }
   ],
   "source": [
    "# Ejercicio 5\n",
    "\n",
    "cadena = input(\"Ingresa una cadena de texto: \")\n",
    "cadena_nueva = cadena.split()\n",
    "cadena_nueva.reverse()\n",
    "cadena_invertida = \" \".join(cadena_nueva)\n",
    "\n",
    "print(cadena_invertida)"
   ]
  },
  {
   "cell_type": "markdown",
   "metadata": {},
   "source": [
    "6. Crea un programa que busque una palabra específica(elegida por la usuaria) en una cadena de texto e indique su posición."
   ]
  },
  {
   "cell_type": "code",
   "execution_count": 269,
   "metadata": {},
   "outputs": [
    {
     "name": "stdout",
     "output_type": "stream",
     "text": [
      "La palabra 'hace' se encuentra en la posición 0 del texto.\n"
     ]
    }
   ],
   "source": [
    "# Ejercicio 6\n",
    "\n",
    "texto = input(\"Ingrese una cadena de texto\")\n",
    "palabra = input(\"¿Que palabra quieres buscar?\")\n",
    "posicion = texto.find(palabra)\n",
    "\n",
    "if posicion != -1:\n",
    "    print(f\"La palabra '{palabra}' se encuentra en la posición {posicion} del texto.\")\n",
    "    \n",
    "else:\n",
    "    print(f\"La palabra '{palabra}' no se encuentra en el texto.\")"
   ]
  },
  {
   "cell_type": "markdown",
   "metadata": {},
   "source": [
    "##### Parte 2: Listas"
   ]
  },
  {
   "cell_type": "markdown",
   "metadata": {},
   "source": [
    "1. Dada la siguiente lista: frutas = ['manzana', 'pera', 'banana', 'uva', 'kiwi'], realiza lo siguiente:\n",
    "\n",
    "a) Reemplaza el segundo elemento con 'durazno'.\n",
    "\n",
    "b) Agrega 'naranja' al final de la lista.\n",
    "\n",
    "c) Extrae y muestra por pantalla el tercer elemento de la lista."
   ]
  },
  {
   "cell_type": "code",
   "execution_count": 70,
   "metadata": {},
   "outputs": [
    {
     "name": "stdout",
     "output_type": "stream",
     "text": [
      "['manzana', 'durazno', 'banana', 'uva', 'kiwi']\n",
      "['manzana', 'durazno', 'banana', 'uva', 'kiwi', 'naranja']\n",
      "uva\n"
     ]
    }
   ],
   "source": [
    "# Ejercicio 1\n",
    "\n",
    "frutas = ['manzana', 'pera', 'banana', 'uva', 'kiwi']\n",
    "frutas[1] = \"durazno\"\n",
    "\n",
    "print(frutas)\n",
    "\n",
    "frutas.append(\"naranja\")\n",
    "\n",
    "print(frutas)\n",
    "\n",
    "tercer_elemento = frutas[3]\n",
    "\n",
    "print(tercer_elemento)"
   ]
  },
  {
   "cell_type": "markdown",
   "metadata": {},
   "source": [
    "2. Crea una lista llamada numeros que contenga los siguientes valores: 10, 25, 15, 30, 20."
   ]
  },
  {
   "cell_type": "code",
   "execution_count": 86,
   "metadata": {},
   "outputs": [],
   "source": [
    "# Ejercicio 2\n",
    "\n",
    "numeros = [10, 25, 15, 30, 20]"
   ]
  },
  {
   "cell_type": "markdown",
   "metadata": {},
   "source": [
    "3. Agrega el valor 35 al incio de la lista numeros."
   ]
  },
  {
   "cell_type": "code",
   "execution_count": 88,
   "metadata": {},
   "outputs": [
    {
     "name": "stdout",
     "output_type": "stream",
     "text": [
      "[35, 10, 25, 15, 30, 20]\n"
     ]
    }
   ],
   "source": [
    "# Ejercicio 3\n",
    "\n",
    "numeros.insert(0, 35)\n",
    "\n",
    "print(numeros)"
   ]
  },
  {
   "cell_type": "markdown",
   "metadata": {},
   "source": [
    "4. Ordena la lista numeros en orden ascendente."
   ]
  },
  {
   "cell_type": "code",
   "execution_count": 91,
   "metadata": {},
   "outputs": [
    {
     "name": "stdout",
     "output_type": "stream",
     "text": [
      "[10, 15, 20, 25, 30, 35]\n"
     ]
    }
   ],
   "source": [
    "# Ejercicio 4\n",
    "\n",
    "numeros.sort()\n",
    "\n",
    "print(numeros)"
   ]
  },
  {
   "cell_type": "markdown",
   "metadata": {},
   "source": [
    "5. Dada la siguiente lista numeros2 = [45, 22, 19, 38, 29]. Crea una nueva lista llamada numeros3 donde tengamos la unión de los todos los elementos de las dos listas (numeros y numeros2) de tal forma que el resultado final sea:\n",
    "\n",
    "numeros3 = [10, 25, 15, 30, 20, 45, 22, 19, 38, 29]"
   ]
  },
  {
   "cell_type": "code",
   "execution_count": 101,
   "metadata": {},
   "outputs": [
    {
     "name": "stdout",
     "output_type": "stream",
     "text": [
      "[10, 15, 20, 25, 30, 35, 45, 22, 19, 38, 29]\n"
     ]
    }
   ],
   "source": [
    "# Ejercicio 5\n",
    "\n",
    "numeros2 = [45, 22, 19, 38, 29]\n",
    "numeros3 = numeros + numeros2 \n",
    "\n",
    "print(numeros3)"
   ]
  },
  {
   "cell_type": "markdown",
   "metadata": {},
   "source": [
    "6. Elimina el último elemento de la lista numeros3."
   ]
  },
  {
   "cell_type": "code",
   "execution_count": 102,
   "metadata": {},
   "outputs": [
    {
     "name": "stdout",
     "output_type": "stream",
     "text": [
      "[10, 15, 20, 25, 30, 35, 45, 22, 19, 38]\n"
     ]
    }
   ],
   "source": [
    "# Ejercicio 6\n",
    "\n",
    "numeros3.pop()\n",
    "\n",
    "print(numeros3)"
   ]
  },
  {
   "cell_type": "markdown",
   "metadata": {},
   "source": [
    "7. Elimina el número 30 de la lista numeros3."
   ]
  },
  {
   "cell_type": "code",
   "execution_count": 104,
   "metadata": {},
   "outputs": [
    {
     "name": "stdout",
     "output_type": "stream",
     "text": [
      "[10, 15, 20, 25, 35, 45, 22, 19, 38]\n"
     ]
    }
   ],
   "source": [
    "# Ejercicio 7\n",
    "\n",
    "numeros3.pop(4)\n",
    "\n",
    "print(numeros3)"
   ]
  },
  {
   "cell_type": "markdown",
   "metadata": {},
   "source": [
    "##### Parte 3: Tuplas"
   ]
  },
  {
   "cell_type": "markdown",
   "metadata": {},
   "source": [
    "1. Crea una tupla llamada colores que contenga los siguientes valores: 'rojo', 'verde', 'azul', 'amarillo', 'morado'."
   ]
  },
  {
   "cell_type": "code",
   "execution_count": 126,
   "metadata": {},
   "outputs": [],
   "source": [
    "# Ejercicio 1\n",
    "\n",
    "colores = ('rojo', 'verde', 'azul', 'amarillo', 'naranja')"
   ]
  },
  {
   "cell_type": "markdown",
   "metadata": {},
   "source": [
    "2. Encuentra el índice de 'verde' en la tupla colores."
   ]
  },
  {
   "cell_type": "code",
   "execution_count": 115,
   "metadata": {},
   "outputs": [
    {
     "name": "stdout",
     "output_type": "stream",
     "text": [
      "1\n"
     ]
    }
   ],
   "source": [
    "# Ejercicio 2\n",
    "\n",
    "print(colores.index(\"verde\"))"
   ]
  },
  {
   "cell_type": "markdown",
   "metadata": {},
   "source": [
    "3. ¿Cuántas veces aparece 'azul' en la tupla colores?"
   ]
  },
  {
   "cell_type": "code",
   "execution_count": 119,
   "metadata": {},
   "outputs": [
    {
     "name": "stdout",
     "output_type": "stream",
     "text": [
      "1\n"
     ]
    }
   ],
   "source": [
    "# Ejercicio 3\n",
    "\n",
    "print(colores.count(\"azul\"))"
   ]
  },
  {
   "cell_type": "markdown",
   "metadata": {},
   "source": [
    "4. Añade el color \"morado\" a la tupla colores. ¿Qué ha pasado? ¿Por qué? Como podríamos añadir el elemento \"morado\"."
   ]
  },
  {
   "cell_type": "code",
   "execution_count": 127,
   "metadata": {},
   "outputs": [
    {
     "name": "stdout",
     "output_type": "stream",
     "text": [
      "['rojo', 'verde', 'azul', 'amarillo', 'naranja']\n",
      "['rojo', 'verde', 'azul', 'amarillo', 'naranja', 'morado']\n",
      "('rojo', 'verde', 'azul', 'amarillo', 'naranja', 'morado')\n"
     ]
    }
   ],
   "source": [
    "# Ejercicio 4\n",
    "\n",
    "colores = list(colores)\n",
    "\n",
    "print(colores)\n",
    "\n",
    "colores.append(\"morado\")\n",
    "\n",
    "print(colores)\n",
    "\n",
    "colores = tuple(colores)\n",
    "\n",
    "print(colores)"
   ]
  },
  {
   "cell_type": "markdown",
   "metadata": {},
   "source": [
    "##### Parte 4: Diccionarios"
   ]
  },
  {
   "cell_type": "markdown",
   "metadata": {},
   "source": [
    "1. Crea un diccionario llamado frutas con las siguientes parejas clave-valor:\n",
    "\n",
    "- 'manzana': 2\n",
    "\n",
    "- 'banana': 3\n",
    "\n",
    "- 'uva': 5\n",
    "\n",
    "- 'pera': 4"
   ]
  },
  {
   "cell_type": "code",
   "execution_count": 10,
   "metadata": {},
   "outputs": [],
   "source": [
    "# Ejercicio 1\n",
    "\n",
    "frutas = {\"manzana\": 2, \"banana\": 3, \"uva\": 5, \"pera\": 4}"
   ]
  },
  {
   "cell_type": "markdown",
   "metadata": {},
   "source": [
    "2. Saca una lista de todas las frutas en el diccionario."
   ]
  },
  {
   "cell_type": "code",
   "execution_count": 136,
   "metadata": {},
   "outputs": [
    {
     "name": "stdout",
     "output_type": "stream",
     "text": [
      "['manzana', 'banana', 'uva', 'pera']\n"
     ]
    }
   ],
   "source": [
    "# Ejercicio 2\n",
    "\n",
    "lista_frutas = list(frutas.keys())\n",
    "\n",
    "print(lista_frutas)"
   ]
  },
  {
   "cell_type": "markdown",
   "metadata": {},
   "source": [
    "3. Saca una lista de todas las cantidades en el diccionario."
   ]
  },
  {
   "cell_type": "code",
   "execution_count": 139,
   "metadata": {},
   "outputs": [
    {
     "name": "stdout",
     "output_type": "stream",
     "text": [
      "[2, 3, 5, 4]\n"
     ]
    }
   ],
   "source": [
    "# Ejercicio 3\n",
    "\n",
    "valores_frutas = list(frutas.values())\n",
    "\n",
    "print(valores_frutas)"
   ]
  },
  {
   "cell_type": "markdown",
   "metadata": {},
   "source": [
    "4. ¿Qué cantidad de 'manzana' tenemos?. Si la clave 'manzana' no está presente, devuelve un mensaje diciendo \"No existe esa clave\"."
   ]
  },
  {
   "cell_type": "code",
   "execution_count": 13,
   "metadata": {},
   "outputs": [
    {
     "data": {
      "text/plain": [
       "'No existe esa clave'"
      ]
     },
     "execution_count": 13,
     "metadata": {},
     "output_type": "execute_result"
    }
   ],
   "source": [
    "# Ejercicio 4\n",
    "\n",
    "frutas.get(\"fresa\", \"No existe esa clave\")"
   ]
  },
  {
   "cell_type": "markdown",
   "metadata": {},
   "source": [
    "5. Agrega un nuevo par de clave-valor al diccionario frutas: 'kiwi' con una cantidad de 6."
   ]
  },
  {
   "cell_type": "code",
   "execution_count": 225,
   "metadata": {},
   "outputs": [
    {
     "name": "stdout",
     "output_type": "stream",
     "text": [
      "{'manzana': 2, 'banana': 3, 'uva': 5, 'pera': 4, 'kiwi': 6}\n"
     ]
    }
   ],
   "source": [
    "# Ejercicio 5\n",
    "\n",
    "frutas.update({\"kiwi\": 6})\n",
    "\n",
    "print(frutas)"
   ]
  },
  {
   "cell_type": "markdown",
   "metadata": {},
   "source": [
    "6. Cambia la cantidad de 'uva' a 8."
   ]
  },
  {
   "cell_type": "code",
   "execution_count": 226,
   "metadata": {},
   "outputs": [
    {
     "name": "stdout",
     "output_type": "stream",
     "text": [
      "{'manzana': 2, 'banana': 3, 'uva': 8, 'pera': 4, 'kiwi': 6}\n"
     ]
    }
   ],
   "source": [
    "# Ejercicio 6\n",
    "\n",
    "frutas [\"uva\"] = 8\n",
    "\n",
    "print(frutas)"
   ]
  },
  {
   "cell_type": "markdown",
   "metadata": {},
   "source": [
    "7. Crea un segundo diccionario llamado frutas_nuevas con las siguientes parejas clave-valor:\n",
    "\n",
    "- 'sandía': 7\n",
    "\n",
    "- 'mango': 4"
   ]
  },
  {
   "cell_type": "code",
   "execution_count": 227,
   "metadata": {},
   "outputs": [],
   "source": [
    "# Ejercicio 7\n",
    "\n",
    "frutas_nuevas = {\"sandía\": 7, \"mango\": 4}"
   ]
  },
  {
   "cell_type": "markdown",
   "metadata": {},
   "source": [
    "8. Combinar los dos diccionarios frutas_nuevas y frutas en uno nuevos llamado frutas_total."
   ]
  },
  {
   "cell_type": "code",
   "execution_count": 228,
   "metadata": {},
   "outputs": [
    {
     "name": "stdout",
     "output_type": "stream",
     "text": [
      "{'manzana': 2, 'banana': 3, 'uva': 8, 'pera': 4, 'kiwi': 6, 'sandía': 7, 'mango': 4}\n"
     ]
    }
   ],
   "source": [
    "# Ejercicio 8\n",
    "\n",
    "fruta_total = frutas.update(frutas_nuevas)\n",
    "\n",
    "print(frutas)"
   ]
  },
  {
   "cell_type": "markdown",
   "metadata": {},
   "source": [
    "9. Elimina el último par de clave-valor del diccionario fruta_total."
   ]
  },
  {
   "cell_type": "code",
   "execution_count": 230,
   "metadata": {},
   "outputs": [
    {
     "name": "stdout",
     "output_type": "stream",
     "text": [
      "('mango', 4)\n",
      "{'manzana': 2, 'banana': 3, 'uva': 8, 'pera': 4, 'kiwi': 6, 'sandía': 7}\n"
     ]
    }
   ],
   "source": [
    "# Ejercicio 9\n",
    "\n",
    "fruta_total = {\"manzana\": 2, \"banana\": 3, \"uva\": 8, \"pera\": 4, \"kiwi\": 6, \"sandía\": 7, \"mango\": 4}\n",
    "elemento_eliminado = fruta_total.popitem()\n",
    "\n",
    "print(elemento_eliminado)\n",
    "\n",
    "print(fruta_total)\n"
   ]
  },
  {
   "cell_type": "markdown",
   "metadata": {},
   "source": [
    "10. Elimina el par de clave-valor correspondiente a la clave 'uva' del diccionario."
   ]
  },
  {
   "cell_type": "code",
   "execution_count": 231,
   "metadata": {},
   "outputs": [
    {
     "name": "stdout",
     "output_type": "stream",
     "text": [
      "fruta eliminada: 8\n",
      "{'manzana': 2, 'banana': 3, 'pera': 4, 'kiwi': 6, 'sandía': 7}\n"
     ]
    }
   ],
   "source": [
    "# Ejercicio 10\n",
    "\n",
    "fruta_eliminada = fruta_total.pop(\"uva\")\n",
    "\n",
    "print(\"fruta eliminada:\", fruta_eliminada)\n",
    "\n",
    "print(fruta_total)"
   ]
  },
  {
   "cell_type": "markdown",
   "metadata": {},
   "source": [
    "11. Agregar la fruta 'manzana' con una cantidad de 10 al diccionario. Si ya existe, no se realizarán cambios en los valores que teníamos."
   ]
  },
  {
   "cell_type": "code",
   "execution_count": 232,
   "metadata": {},
   "outputs": [
    {
     "name": "stdout",
     "output_type": "stream",
     "text": [
      "{'manzana': '10', 'banana': 3, 'pera': 4, 'kiwi': 6, 'sandía': 7}\n"
     ]
    }
   ],
   "source": [
    "# Ejercicio 11\n",
    "\n",
    "fruta_total.update({\"manzana\": \"10\"})\n",
    "\n",
    "print(fruta_total)"
   ]
  },
  {
   "cell_type": "markdown",
   "metadata": {},
   "source": [
    "12. Combinar métodos de listas y diccionarios:\n",
    "\n",
    "- Obtén una lista de todas las cantidades en el diccionario y calcula suma total de las cantidades del diccionario frutas_total.\n",
    "\n",
    "- Utilizando la lista creada en el apartado anterior encuentra la cantidad más grande y más pequeña."
   ]
  },
  {
   "cell_type": "code",
   "execution_count": 236,
   "metadata": {},
   "outputs": [
    {
     "name": "stdout",
     "output_type": "stream",
     "text": [
      "[2, 3, 8, 4, 6, 7, 4]\n",
      "34\n"
     ]
    }
   ],
   "source": [
    "# Ejercicio 12\n",
    "\n",
    "valores_frutas = list(frutas.values())\n",
    "\n",
    "print(valores_frutas)\n",
    "\n",
    "suma_total = sum(valores_frutas)\n",
    "\n",
    "print(sum_total)"
   ]
  },
  {
   "cell_type": "markdown",
   "metadata": {},
   "source": [
    "##### Parte 5: Métodos de Sets"
   ]
  },
  {
   "cell_type": "markdown",
   "metadata": {},
   "source": [
    "13. Crea un set llamado conjunto1 con los números del 1 al 5."
   ]
  },
  {
   "cell_type": "code",
   "execution_count": 238,
   "metadata": {},
   "outputs": [],
   "source": [
    "# Ejercicio 13\n",
    "\n",
    "conjunto1 = {1, 2, 3, 4, 5}"
   ]
  },
  {
   "cell_type": "markdown",
   "metadata": {},
   "source": [
    "14. Crea otro set llamado conjunto2 con los números del 4 al 8."
   ]
  },
  {
   "cell_type": "code",
   "execution_count": 239,
   "metadata": {},
   "outputs": [],
   "source": [
    "# Ejercicio 14\n",
    "\n",
    "conjunto2 = {4, 5, 6, 7, 8}"
   ]
  },
  {
   "cell_type": "markdown",
   "metadata": {},
   "source": [
    "15. Obtén la unión de conjunto1 y conjunto2."
   ]
  },
  {
   "cell_type": "code",
   "execution_count": 241,
   "metadata": {},
   "outputs": [
    {
     "name": "stdout",
     "output_type": "stream",
     "text": [
      "{1, 2, 3, 4, 5, 6, 7, 8}\n"
     ]
    }
   ],
   "source": [
    "# Ejercicio 15\n",
    "\n",
    "conjunto3 = conjunto1.union(conjunto2)\n",
    "\n",
    "print(conjunto3)"
   ]
  },
  {
   "cell_type": "markdown",
   "metadata": {},
   "source": [
    "16. Obtén la intersección de conjunto1 y conjunto2."
   ]
  },
  {
   "cell_type": "code",
   "execution_count": 242,
   "metadata": {},
   "outputs": [
    {
     "name": "stdout",
     "output_type": "stream",
     "text": [
      "{4, 5}\n"
     ]
    }
   ],
   "source": [
    "# Ejercicio 16\n",
    "\n",
    "interseccion = conjunto1.intersection(conjunto2)\n",
    "\n",
    "print(interseccion)"
   ]
  },
  {
   "cell_type": "markdown",
   "metadata": {},
   "source": [
    "17. Obtén los elementos que están en conjunto1 pero no en el conjunto2."
   ]
  },
  {
   "cell_type": "code",
   "execution_count": 245,
   "metadata": {},
   "outputs": [
    {
     "name": "stdout",
     "output_type": "stream",
     "text": [
      "{1, 2, 3}\n"
     ]
    }
   ],
   "source": [
    "# Ejercicio 17\n",
    "\n",
    "conjunto4 = conjunto1.difference(conjunto2)\n",
    "\n",
    "print(conjunto4)"
   ]
  },
  {
   "cell_type": "markdown",
   "metadata": {},
   "source": [
    "##### Parte 6: Sentencias de Control"
   ]
  },
  {
   "cell_type": "markdown",
   "metadata": {},
   "source": [
    "Ejercicio 1: Evaluación de Edades.\n",
    "\n",
    "- Escribe un programa que solicite al usuario ingresar su edad.\n",
    "\n",
    "- Si la edad es menor de 18, muestra \"Eres menor de edad\".\n",
    "\n",
    "- Si la edad está entre 18 y 65 (incluyendo ambos extremos), muestra \"Eres adulto\".\n",
    "\n",
    "- Si la edad es mayor que 65, muestra \"Eres un adulto mayor\"."
   ]
  },
  {
   "cell_type": "code",
   "execution_count": 252,
   "metadata": {},
   "outputs": [
    {
     "name": "stdout",
     "output_type": "stream",
     "text": [
      "Eres un adulto mayor\n"
     ]
    }
   ],
   "source": [
    "# Ejercicio 1\n",
    "\n",
    "edad = int(input(\"¿Cual es tu edad?\"))\n",
    "\n",
    "if edad <= 18:\n",
    "    print(\"Eres menor de edad\")\n",
    "     \n",
    "elif 18 <= edad <= 65:\n",
    "    print(\"Eres un adulto\")\n",
    "    \n",
    "else:\n",
    "    print(\"Eres un adulto mayor\")"
   ]
  },
  {
   "cell_type": "markdown",
   "metadata": {},
   "source": [
    "Ejercicio 2: Determinación de Día de la Semana.\n",
    "\n",
    "- Solicita al usuario que ingrese un número del 1 al 7.\n",
    "\n",
    "- Utilizando una serie de if-elif-else, muestra el día de la semana correspondiente al número ingresado. Por ejemplo, si ingresa 1, muestra \"Lunes\"."
   ]
  },
  {
   "cell_type": "code",
   "execution_count": 255,
   "metadata": {},
   "outputs": [
    {
     "name": "stdout",
     "output_type": "stream",
     "text": [
      "Hoy es lunes\n"
     ]
    }
   ],
   "source": [
    "# Ejercicio 2\n",
    "\n",
    "num = int(input(\"Ingresa un numero del 1 al 7\"))\n",
    "\n",
    "if num == 1:\n",
    "    print(\"Hoy es lunes\")\n",
    "    \n",
    "elif num == 2:\n",
    "    print(\"Hoy es martes\")\n",
    "elif num == 3:\n",
    "    print(\"Hoy es miercoles\")\n",
    "elif num == 4:\n",
    "    print(\"Hoy es jueves\")\n",
    "elif num == 5:\n",
    "    print(\"Hoy es viernes\")\n",
    "elif num == 6:\n",
    "    print(\"Hoy es sabado\")\n",
    "elif num == 7:\n",
    "    print(\"Hoy es domingo\")\n",
    "    \n",
    "else:\n",
    "    print(\"El numero ingresado no es correcto\")"
   ]
  },
  {
   "cell_type": "markdown",
   "metadata": {},
   "source": [
    "Ejercicio 3: Juego de Adivinanza.\n",
    "\n",
    "- Genera un número aleatorio entre 1 y 100.\n",
    "\n",
    "- Pídele al usuario que adivine el número.\n",
    "\n",
    "- Si el usuario adivina correctamente en el primer intento, muestra \"¡Ganaste en el primer intento!\".\n",
    "\n",
    "- Si el usuario no adivina en el primer intento, bríndale pistas (mayor o menor) y permite que intente nuevamente. Muestra cuántos intentos le llevó al final."
   ]
  },
  {
   "cell_type": "code",
   "execution_count": 4,
   "metadata": {},
   "outputs": [
    {
     "name": "stdout",
     "output_type": "stream",
     "text": [
      "Lo siento, no has acertado. Intentalo de nuevo\n",
      "Lo siento, no has acertado. Intentalo de nuevo\n",
      "Perfecto, el numero era 5 lo has acertado despues de 3 intentos\n"
     ]
    }
   ],
   "source": [
    "# Ejercicio 3\n",
    "\n",
    "numero_secreto = 5\n",
    "\n",
    "adivina_numero = int(input(\"Introduce un numero entero entre 1 y 100\"))\n",
    "\n",
    "intentos = 1\n",
    "\n",
    "while numero_secreto != adivina_numero:\n",
    "    print(\"Lo siento, no has acertado. Intentalo de nuevo\")\n",
    "    adivina_numero = int(input(\"Introduce un numero entero entre 1 y 100\"))\n",
    "    intentos += 1\n",
    "    \n",
    "print(f\"Perfecto, el numero era {adivina_numero} lo has acertado despues de {intentos} intentos\")\n"
   ]
  },
  {
   "cell_type": "markdown",
   "metadata": {},
   "source": [
    "Ejercicio 4: Juego de Adivinar la Palabra.\n",
    "\n",
    "- Elige una palabra secreta y ocúltala utilizando asteriscos, por ejemplo, \"secreto\" se muestra como \"*******\".\n",
    "\n",
    "- Permite al usuario adivinar letras una por una.\n",
    "\n",
    "- Si la letra adivinada está en la palabra secreta, muestra la palabra con las letras descubiertas y los asteriscos.\n",
    "\n",
    "- Si la letra no está en la palabra secreta, resta una vida al jugador.\n",
    "\n",
    "- El juego continúa hasta que el jugador adivine la palabra."
   ]
  },
  {
   "cell_type": "code",
   "execution_count": 12,
   "metadata": {},
   "outputs": [
    {
     "name": "stdout",
     "output_type": "stream",
     "text": [
      "Palabra secreta: *******\n",
      "Palabra secreta: *******\n",
      "¡Bienvenido al juego de adivinar la palabra secreta!\n",
      "Palabra secreta: *******\n",
      "La letra d no está en la palabra secreta.\n",
      "Te quedan 4 vidas.\n",
      "Palabra secreta: *******\n",
      "La letra f no está en la palabra secreta.\n",
      "Te quedan 3 vidas.\n",
      "Palabra secreta: *******\n",
      "La letra f no está en la palabra secreta.\n",
      "Te quedan 2 vidas.\n",
      "Palabra secreta: *******\n",
      "¡Muy bien! La letra e está en la palabra secreta.\n",
      "Palabra secreta: *e**e**\n",
      "¡Muy bien! La letra r está en la palabra secreta.\n",
      "Palabra secreta: *e*re**\n",
      "¡Muy bien! La letra t está en la palabra secreta.\n",
      "Palabra secreta: *e*ret*\n",
      "La letra y no está en la palabra secreta.\n",
      "Te quedan 1 vidas.\n",
      "Palabra secreta: *e*ret*\n",
      "La letra h no está en la palabra secreta.\n",
      "Te quedan 0 vidas.\n",
      "¡Lo siento! Te has quedado sin vidas. La palabra secreta era: secreto\n"
     ]
    }
   ],
   "source": [
    "# Ejercicio 4\n",
    "\n",
    "palabra_secreta = \"secreto\"\n",
    "\n",
    "palabra_oculta = list(\"*\" * len(palabra_secreta))\n",
    "\n",
    "vidas = 5\n",
    "\n",
    "mostrar_palabra_oculta()\n",
    "print(\"Palabra secreta:\", \"\".join(palabra_oculta))\n",
    "\n",
    "print(\"¡Bienvenido al juego de adivinar la palabra secreta!\")\n",
    "\n",
    "while vidas > 0:\n",
    "    mostrar_palabra_oculta()\n",
    "    letra = input(\"Ingresa una letra: \")\n",
    "\n",
    "    if letra in palabra_secreta:\n",
    "        print(\"¡Muy bien! La letra\", letra, \"está en la palabra secreta.\")\n",
    "        for i in range(len(palabra_secreta)):\n",
    "            if palabra_secreta[i] == letra:\n",
    "                palabra_oculta[i] = letra\n",
    "    else:\n",
    "        print(\"La letra\", letra, \"no está en la palabra secreta.\")\n",
    "        vidas -= 1\n",
    "        print(\"Te quedan\", vidas, \"vidas.\")\n",
    "\n",
    "    if \"*\" not in palabra_oculta:\n",
    "        mostrar_palabra_oculta()\n",
    "        print(\"¡Felicidades! ¡Has adivinado la palabra secreta!\")\n",
    "        break\n",
    "\n",
    "if vidas == 0:\n",
    "    print(\"¡Lo siento! Te has quedado sin vidas. La palabra secreta era:\", palabra_secreta)"
   ]
  }
 ],
 "metadata": {
  "kernelspec": {
   "display_name": "Python 3",
   "language": "python",
   "name": "python3"
  },
  "language_info": {
   "codemirror_mode": {
    "name": "ipython",
    "version": 3
   },
   "file_extension": ".py",
   "mimetype": "text/x-python",
   "name": "python",
   "nbconvert_exporter": "python",
   "pygments_lexer": "ipython3",
   "version": "3.9.7"
  }
 },
 "nbformat": 4,
 "nbformat_minor": 2
}
